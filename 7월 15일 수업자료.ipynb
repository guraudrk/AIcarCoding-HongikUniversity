{
 "cells": [
  {
   "cell_type": "markdown",
   "id": "28dc0024-3b3c-4b37-91b3-3bad40abcafc",
   "metadata": {},
   "source": [
    "## roborobo라는 자율주행 로봇을 만들고, 그 로봇을 자율적으로 주행하게 하는 코드를 짜 보자."
   ]
  },
  {
   "cell_type": "code",
   "execution_count": 5,
   "id": "73ca9cb8-07a7-4fee-82aa-8ae8b9b3d37b",
   "metadata": {},
   "outputs": [
    {
     "name": "stdout",
     "output_type": "stream",
     "text": [
      "Collecting RobokitRS\n",
      "  Downloading RobokitRS-1.0.1.30-py3-none-any.whl.metadata (3.8 kB)\n",
      "Collecting pyserial>=3.4 (from RobokitRS)\n",
      "  Downloading pyserial-3.5-py2.py3-none-any.whl.metadata (1.6 kB)\n",
      "Downloading RobokitRS-1.0.1.30-py3-none-any.whl (15 kB)\n",
      "Downloading pyserial-3.5-py2.py3-none-any.whl (90 kB)\n",
      "   ---------------------------------------- 0.0/90.6 kB ? eta -:--:--\n",
      "   ---------------------------------------- 90.6/90.6 kB 2.6 MB/s eta 0:00:00\n",
      "Installing collected packages: pyserial, RobokitRS\n",
      "Successfully installed RobokitRS-1.0.1.30 pyserial-3.5\n"
     ]
    }
   ],
   "source": [
    "#robokits에 대한 라이브러리를 설치한다.\n",
    "\n",
    "!pip install RobokitRS"
   ]
  },
  {
   "cell_type": "markdown",
   "id": "354ee658-b0ea-4c91-ac61-76c32850e684",
   "metadata": {},
   "source": [
    "모듈 불러오기/색상 설정 등"
   ]
  },
  {
   "cell_type": "code",
   "execution_count": 3,
   "id": "dc647ff1-4c88-4b4b-a655-2cd40d50219c",
   "metadata": {
    "scrolled": true
   },
   "outputs": [
    {
     "name": "stdout",
     "output_type": "stream",
     "text": [
      "C:\\Users\\User\\anaconda3\\Lib\\site-packages\\RobokitRS\\pins\n",
      "RSBoard serial port opend\n",
      "Thread init done\n",
      "Pin mode init done\n",
      "Sysex init done\n",
      "RSBoard init done\n",
      "연결 완료!\n"
     ]
    }
   ],
   "source": [
    "#모듈 불러오기\n",
    "#모듈에 로봇과 연결하고, 로봇을 움직이는 함수들을 정의했다.\n",
    "#import mobility_module as m #이 코드를 실행하면 모듈 파일에 있는 코드가 실행되어야 한다.\n",
    "import time as t #시간에 대한 함수 정의.\n",
    "#이런 방법으로도 모듈의 함수를 간단히 불러올 수 있다.\n",
    "from mobility_module import *\n"
   ]
  },
  {
   "cell_type": "code",
   "execution_count": 3,
   "id": "efc022e6-b6af-41d4-835d-76be70da901a",
   "metadata": {},
   "outputs": [
    {
     "name": "stdout",
     "output_type": "stream",
     "text": [
      "C:\\Users\\User\\anaconda3\\Lib\\site-packages\\RobokitRS\\pins\n"
     ]
    }
   ],
   "source": [
    "from RobokitRS.RobokitRS import *\n",
    "import time as t\n",
    "\n",
    "\n",
    "rs = RobokitRS() #객체 담기"
   ]
  },
  {
   "cell_type": "code",
   "execution_count": 5,
   "id": "cb279d95-78cd-4d2a-9fae-5c3f3290953e",
   "metadata": {},
   "outputs": [],
   "source": [
    "#모듈의 함수를 사용해보자.\n",
    "#함수를 따로 저장하니 코드에 드는 힘이 절감되는 장점이 있다.\n",
    "\n",
    "forward()\n",
    "t.sleep(1)\n",
    "stop()\n",
    "\n",
    "forward()\n",
    "t.sleep(1)\n",
    "stop()"
   ]
  },
  {
   "cell_type": "code",
   "execution_count": 16,
   "id": "d435a653-f354-4f17-b5d3-c3ab246bf3cb",
   "metadata": {},
   "outputs": [],
   "source": [
    "#모터가 돌아가는지 아닌지 확인한다. \n",
    "#moter_write함수를 통해 모터를 돌아가게 한다.\n",
    "\n",
    "#motor_write의 매개변수들을 바꿔보면서 기계를 동작해보자.\n",
    "rs.motor_write(0,1,10) #첫번째는 모터,두번째는 방향,세번째는 속도이다.\n",
    "t.sleep(1)\n",
    "rs.motor_write(2,1,10)\n",
    "stop()\n"
   ]
  },
  {
   "cell_type": "markdown",
   "id": "1b283c6d-7aa7-4108-b3a0-04f9ef2f1ba5",
   "metadata": {},
   "source": [
    "### 여러 방향으로 이동하는 함수 만들기\n",
    "\n",
    "앞에서 배웠던 motor_write 함수들을 이용해서, 좌/우 상/하향,우측,좌측 코드를 만든다.\n",
    "\n",
    "스피드를 매개변수로 받는것이 필요하다."
   ]
  },
  {
   "cell_type": "code",
   "execution_count": 7,
   "id": "02196c88-8564-47ce-880a-56667d3aded6",
   "metadata": {},
   "outputs": [],
   "source": [
    "#좌하향\n",
    "def left_down(i=10): #기본값은 10\n",
    "    rs.motor_write(1,1,i)\n",
    "    rs.motor_write(3,1,i)\n",
    "#우상향\n",
    "def right_up(i=10):\n",
    "    rs.motor_write(0,1,i)\n",
    "    rs.motor_write(2,1,i)\n",
    "#전진\n",
    "def reverse(i=10):\n",
    "    rs.motor_write(0,0,i)\n",
    "    rs.motor_write(1,1,i)\n",
    "    rs.motor_write(2,1,i)\n",
    "    rs.motor_write(3,0,i)\n",
    "#정지\n",
    "def stop():\n",
    "    rs.motor_write(0,1,0)\n",
    "    rs.motor_write(1,1,0)\n",
    "    rs.motor_write(2,1,0)\n",
    "    rs.motor_write(3,1,0)\n",
    "#후진\n",
    "def forward(i=10):\n",
    "    rs.motor_write(0,1,i)\n",
    "    rs.motor_write(1,0,i)\n",
    "    rs.motor_write(2,0,i)\n",
    "    rs.motor_write(3,1,i)\n",
    "\n",
    "\n",
    "#좌회전\n",
    "def left(i=10):\n",
    "    rs.motor_write(0,0,i)\n",
    "    rs.motor_write(1,0,i)\n",
    "    rs.motor_write(2,1,i)\n",
    "    rs.motor_write(3,1,i)\n",
    "\n",
    "#우회전\n",
    "def right(i=10):\n",
    "    rs.motor_write(0,1,i)\n",
    "    rs.motor_write(1,1,i)\n",
    "    rs.motor_write(2,0,i)\n",
    "    rs.motor_write(3,0,i)\n",
    "    "
   ]
  },
  {
   "cell_type": "code",
   "execution_count": 23,
   "id": "7f222c4d-6203-4101-a33b-a19f7a104bdb",
   "metadata": {},
   "outputs": [],
   "source": [
    "#실제로 한번 해보자. 1초동안 오른쪽으로 이동 한 뒤 멈추는 것을 알 수 있다.\n",
    "left(15)\n",
    "t.sleep(1)\n",
    "stop()"
   ]
  },
  {
   "cell_type": "markdown",
   "id": "d10c45ed-6ec2-4edf-a779-5a1a2b781f4d",
   "metadata": {},
   "source": [
    "색상 설정"
   ]
  },
  {
   "cell_type": "code",
   "execution_count": 11,
   "id": "07511ea1-f9b7-4ae0-9505-27d779d25643",
   "metadata": {},
   "outputs": [],
   "source": [
    "#색상 설정\n",
    "\n",
    "#13은 rgb선을 꼽은 곳의 번호이다.\n",
    "rs.set_rgb_led_color(13,100,100,100) #우리가 잘 아는 rgb가 맞다.\n",
    "rs.set_rgb_led_on(13)\n",
    "t.sleep(3) #n초 간격으로 rgb_led_color에 맞는 색을 켠다.\n",
    "\n",
    "#2.rgb_led끄기\n",
    "\n",
    "rs.set_rgb_led_off(13)"
   ]
  },
  {
   "cell_type": "markdown",
   "id": "3aabc2fc-f2b0-4ba2-87a2-e29199cd1cab",
   "metadata": {},
   "source": [
    "초음파 센서 확인하기\n"
   ]
  },
  {
   "cell_type": "code",
   "execution_count": 9,
   "id": "185b718a-ffba-4866-8f79-3882dc290e88",
   "metadata": {},
   "outputs": [
    {
     "name": "stdout",
     "output_type": "stream",
     "text": [
      "0\n",
      "508\n",
      "144\n",
      "104\n",
      "140\n",
      "145\n",
      "144\n",
      "144\n",
      "141\n",
      "104\n"
     ]
    }
   ],
   "source": [
    "#초음파 센서 관련함수\n",
    "#초음파는 sonar로 표현한다.\n",
    "\n",
    "#1.초음파센서 포트 연결하기\n",
    "\n",
    "m.rs.sonar_begin(3)\n",
    "\n",
    "#2.초음파센서 값 읽기\n",
    "\n",
    "i = 0\n",
    "while i<10:\n",
    "    SONAR = m.rs.sonar_read(3)\n",
    "    print(SONAR)\n",
    "    t.sleep(1) #1초동안...\n",
    "    i = i+1\n",
    "\n",
    "#값이 0인 경우에는 아예 측정이 안되는 경우이므로, 처음부터 코드를 다시 실행!\n",
    "\n",
    "\n",
    "\n",
    "#재미있는 실험을 하나 해볼까? 차량 앞에 무언가를 두면 그 거리에 따라 값이 줄어들거나 늘어나는 것을 알 수 있다.\n",
    "#이것이 바로 sonar_read을 통해 초음파를 탐지하는 것의 증거이다.\n",
    "#값을 측정할 수 없거나, 오류가 날 때는 508이 나온다. 이런 경우를 대비하기 위해 코드로 처리를 해야 한다.\n"
   ]
  },
  {
   "cell_type": "markdown",
   "id": "a87b1760-8c14-4ea3-8a7d-c98f08f25891",
   "metadata": {},
   "source": [
    "### 초음파 센서를 활용해서 거리 탐지할 때 오류가 나는 경우를 핸들링하기"
   ]
  },
  {
   "cell_type": "markdown",
   "id": "470d7da3-ea12-4521-9a8a-2aded3e8dfbb",
   "metadata": {},
   "source": [
    "거리를 탐지할 때 오류가 나는 경우(508이 뜨는 경우)를 핸들링하자."
   ]
  },
  {
   "cell_type": "code",
   "execution_count": null,
   "id": "79e914ab-625e-4f01-8d6b-25ffbcfc219c",
   "metadata": {},
   "outputs": [],
   "source": [
    "while True:\n",
    "    sonar = rs.sonar_read(3)#초음파 센서와 해당 포트가 연결되어 있다면 정의가 된다.\n",
    "    print(sonar)\n",
    "    t.sleep(0.1) #아주 약간의 간격을 둔다.\n",
    "\n",
    "    if sonar==0 or sonar==508 or sonar==None:\n",
    "        continue\n",
    "    if sonar !=0 or sonar != 308:\n",
    "        if sonar < 50:\n",
    "            rs.set_rgb_led_color(13,100,0,0)\n",
    "            stop()\n",
    "            break\n",
    "    else: #값이 508이나 0일 때 동작을 설정한다.\n",
    "        stop()\n",
    "        "
   ]
  },
  {
   "cell_type": "code",
   "execution_count": null,
   "id": "4f20ec60-ae96-440d-bc1d-0573835e1567",
   "metadata": {},
   "outputs": [],
   "source": []
  },
  {
   "cell_type": "code",
   "execution_count": null,
   "id": "b7654c28-b072-44d8-b71b-acd7ba878e41",
   "metadata": {},
   "outputs": [],
   "source": []
  },
  {
   "cell_type": "markdown",
   "id": "85c1945a-3800-4fe8-a2fd-00dc9b7d8e43",
   "metadata": {},
   "source": [
    "### 초음파센서를 활용해서 장애물을 인식해서 속도를 조절하기\n",
    "\n",
    "벽이 있다면, 벽 앞에서 멈출 수 있게 한다.\n"
   ]
  },
  {
   "cell_type": "code",
   "execution_count": 10,
   "id": "f664ab5c-fda0-4d35-8b01-3c755f79d7ec",
   "metadata": {},
   "outputs": [],
   "source": [
    "#우선 초음파를 이용해서 장애물을 감지하는 코드를 짠다. \n",
    "\n",
    "def obstacle():\n",
    "    #1.초음파센서 포트 연결하기\n",
    "    rs.sonar_begin(3)\n",
    "    #2.while문을 이용해서 장애물 탐지\n",
    "    while 1:\n",
    "        obstacle = rs.sonar_read(3)\n",
    "        t.sleep(1) #1초동안...\n",
    "\n",
    "        print(obstacle)\n",
    "        if(obstacle<30):\n",
    "          \n",
    "            stop() #장애물과 거리가 좁혀지면 멈춘다.\n",
    "            break\n",
    "        "
   ]
  },
  {
   "cell_type": "code",
   "execution_count": 16,
   "id": "80ef0536-e3be-46a5-8de7-989be7a51137",
   "metadata": {},
   "outputs": [
    {
     "name": "stdout",
     "output_type": "stream",
     "text": [
      "96\n",
      "86\n",
      "72\n",
      "60\n",
      "47\n",
      "35\n",
      "23\n"
     ]
    }
   ],
   "source": [
    "#앞서 정의한 코드를 바탕으로 장애물을 탐지해서 멈출 수 있도록 한다. \n",
    "\n",
    "forward() #앞으로 가는 코드\n",
    "obstacle() #장애물을 인식하면 멈추는 코드"
   ]
  },
  {
   "cell_type": "code",
   "execution_count": null,
   "id": "f18f1395-097d-4843-8227-a8d4fa6ba345",
   "metadata": {},
   "outputs": [],
   "source": [
    "stop()\n"
   ]
  },
  {
   "cell_type": "markdown",
   "id": "5b45b684-0ba7-4e3e-ac8f-0975c51e58a7",
   "metadata": {},
   "source": [
    "### 적외선 센서값 확인\n",
    "\n",
    "적외선 센서를 통해 바닥의 색을 확인한다.\n",
    "\n",
    "이는 자율주행에서 도로의 색을 인지하는데 활용된다."
   ]
  },
  {
   "cell_type": "code",
   "execution_count": 10,
   "id": "db54e819-032b-4bdb-8743-496e94735691",
   "metadata": {},
   "outputs": [
    {
     "name": "stdout",
     "output_type": "stream",
     "text": [
      "815 814\n",
      "815 814\n",
      "815 814\n",
      "815 814\n",
      "815 814\n",
      "815 814\n",
      "815 814\n",
      "815 814\n",
      "815 814\n",
      "815 814\n"
     ]
    }
   ],
   "source": [
    "#적외선 센서값 확인\n",
    "#밑바닥의 색에 따라 출력값이 달라지는 것을 볼 수 있을 것이다.\n",
    "\n",
    "\n",
    "for i in range(10):\n",
    "    L = m.rs.analog_read(3)\n",
    "    R = m.rs.analog_read(4)\n",
    "    print(L,R)\n",
    "    t.sleep(0.1)"
   ]
  },
  {
   "cell_type": "markdown",
   "id": "c10ccdb3-e097-43a3-b679-50ec3fd9be7e",
   "metadata": {},
   "source": [
    "### 낭떠러지가 발견이 되면 멈추도록 코드를 짜기\n",
    "\n",
    "평범한 길을 벗어나서 낭떠러지가 나오면 멈추도록 한다.\n",
    "\n",
    "이 때, 차의 속도를 너무 빠르게 하면 죽어버릴 수가 있으니 차의 속도를 적당히 느리게 하자."
   ]
  },
  {
   "cell_type": "code",
   "execution_count": 22,
   "id": "ce027cab-a57f-40c6-a7b3-dbef47f3b9c3",
   "metadata": {},
   "outputs": [
    {
     "name": "stdout",
     "output_type": "stream",
     "text": [
      "815\n",
      "815\n",
      "815\n",
      "818\n",
      "815\n",
      "815\n",
      "815\n",
      "815\n",
      "815\n",
      "815\n",
      "815\n",
      "815\n",
      "815\n",
      "815\n",
      "815\n",
      "815\n",
      "29\n",
      "테스트 종료.\n"
     ]
    }
   ],
   "source": [
    "t.sleep(1)\n",
    "\n",
    "while True:\n",
    "    R = m.rs.analog_read(3)\n",
    "    t.sleep(0.1)\n",
    "    print(R)\n",
    "\n",
    "    if R> 100:\n",
    "        forward(5)\n",
    "    else:\n",
    "        stop()\n",
    "        break\n",
    "\n",
    "print(\"테스트 종료.\")"
   ]
  },
  {
   "cell_type": "code",
   "execution_count": null,
   "id": "8307c359-6cc2-402d-bff5-c2968edcb11b",
   "metadata": {},
   "outputs": [],
   "source": [
    "#라인트레이서코드\n",
    " while True:\n",
    "\n",
    "        L = rs.analog_read(1)\n",
    "\n",
    "        R = rs.analog_read(0)\n",
    "\n",
    "        print(L, R)\n",
    "\n",
    "        t.sleep(0.2)\n",
    "\n",
    "        \n",
    "\n",
    "        if R > 100 :\n",
    "\n",
    "        \n",
    "\n",
    "            if L > 100 :\n",
    "\n",
    "                forward(4)\n",
    "\n",
    "            else :\n",
    "\n",
    "                while L < 100 :\n",
    "\n",
    "                    L_turn(4)\n",
    "\n",
    "                    L = rs.analog_read(1)\n",
    "\n",
    "                    print(L)\n",
    "\n",
    "                    t.sleep(0.2)\n",
    "\n",
    "            \n",
    "\n",
    "        else: \n",
    "\n",
    "            \n",
    "\n",
    "            if L > 100 :\n",
    "\n",
    "                while R < 100:\n",
    "\n",
    "                    R_turn(4)\n",
    "\n",
    "                    R = rs.analog_read(0)\n",
    "\n",
    "                    t.sleep(0.2)\n",
    "\n",
    "            else :\n",
    "\n",
    "                stop()\n",
    "\n",
    "                t.sleep(1)"
   ]
  },
  {
   "cell_type": "markdown",
   "id": "ff683d51-09b9-4719-87ec-b59a4b38abd1",
   "metadata": {},
   "source": [
    "### 자율주행차량의 방향을 기울기를 통해 측정하는 기능 구현 - 자이로 센서\n",
    "\n",
    "\n"
   ]
  },
  {
   "cell_type": "code",
   "execution_count": 9,
   "id": "5030ce5f-9828-42f3-bd27-71528c2bc908",
   "metadata": {},
   "outputs": [],
   "source": [
    "#자율주행차량의 방향을 기울기를 통해 측정하는 기능!(이를 위해서는 )\n",
    "#회전을 하게 되면 값이 바뀌게 된다.\n",
    "#gyro_begin을 통해 구동을 시작한다.\n",
    "rs.gyro_begin()\n",
    "rs.set_gyro_default_position()\n",
    "\n"
   ]
  },
  {
   "cell_type": "code",
   "execution_count": 11,
   "id": "22ee22f4-2276-47cb-b082-b32ba04a34e1",
   "metadata": {},
   "outputs": [],
   "source": [
    "left_down()\n",
    "t.sleep(1)\n",
    "stop()"
   ]
  },
  {
   "cell_type": "code",
   "execution_count": 13,
   "id": "6d9c50a4-7d0f-42fa-a4a0-f58019171801",
   "metadata": {},
   "outputs": [
    {
     "name": "stdout",
     "output_type": "stream",
     "text": [
      "x= 0 y= -2 z= 40\n",
      "x= 1 y= 0 z= 40\n",
      "x= 0 y= 0 z= 40\n",
      "x= 1 y= 0 z= 40\n",
      "x= 0 y= 0 z= 40\n",
      "x= 1 y= 0 z= 40\n",
      "x= 0 y= 0 z= 40\n",
      "x= 0 y= 0 z= 40\n",
      "x= 1 y= 0 z= 40\n",
      "x= 0 y= 0 z= 40\n"
     ]
    }
   ],
   "source": [
    "#x,y,z의 방향을 실시간으로 측정한다. 차를 직접 이동시켜 보면 값이 나올걸? \n",
    "#rs가 충돌하지 않도록 관련 내용은 한번만 import를 한다. \n",
    "\n",
    "i=0\n",
    "\n",
    "while 10>i:\n",
    "    x = rs.gyro_read(GyroDataType.ANGLE_X)\n",
    "    y = rs.gyro_read(GyroDataType.ANGLE_Y)\n",
    "    z = rs.gyro_read(GyroDataType.ANGLE_Z)\n",
    "    print(\"x=\",x,\"y=\",y,\"z=\",z)\n",
    "    t.sleep(1)\n",
    "    i+=1"
   ]
  },
  {
   "cell_type": "markdown",
   "id": "b37aee11-525c-4f74-8159-f45d8cb7a773",
   "metadata": {},
   "source": [
    "### 자이로센서 코드"
   ]
  },
  {
   "cell_type": "code",
   "execution_count": null,
   "id": "c3c0a4a4-c66d-4c62-afbf-fcf6caf0e27e",
   "metadata": {},
   "outputs": [],
   "source": [
    "#위의 코드들을 응용해서 좌표에 따라 자동차가 동작하는 로직을 코딩해보자.\n",
    "\n",
    "#자이로센서 코드-z축의 값에 따라 차량을 자율적으로 움직인다.\n",
    "while True :\n",
    "\n",
    "    z = rs.gyro_read(GyroDataType.ANGLE_Z) \n",
    "\n",
    "    print(z)\n",
    "\n",
    "    t.sleep(1)\n",
    "\n",
    "    \n",
    "\n",
    "    if -5 <= z and z <= 5:\n",
    "\n",
    "        forward()\n",
    "\n",
    "        t.sleep(0.5)\n",
    "\n",
    "        \n",
    "\n",
    "    elif z < -5 :\n",
    "\n",
    "        stop()\n",
    "\n",
    "        t.sleep(0.1)\n",
    "\n",
    "        #조건반복문\n",
    "\n",
    "        while z < 0 :\n",
    "\n",
    "            z = rs.gyro_read(GyroDataType.ANGLE_Z)\n",
    "\n",
    "            t.sleep(0.05)\n",
    "\n",
    "            right_up(2)\n",
    "\n",
    "            print(2)\n",
    "\n",
    "            \n",
    "\n",
    "        stop()\n",
    "\n",
    "        print(\"왼쪽완료\")\n",
    "\n",
    "    elif z > 5: \n",
    "\n",
    "        while z > 2 :\n",
    "\n",
    "            z = rs.gyro_read(GyroDataType.ANGLE_Z)\n",
    "\n",
    "            t.sleep(0.05)\n",
    "\n",
    "            left_down(2)\n",
    "\n",
    "            print(2)\n",
    "\n",
    "            \n",
    "\n",
    "        stop()\n",
    "\n",
    "        print(\"오른쪽완료\")"
   ]
  }
 ],
 "metadata": {
  "kernelspec": {
   "display_name": "Python 3 (ipykernel)",
   "language": "python",
   "name": "python3"
  },
  "language_info": {
   "codemirror_mode": {
    "name": "ipython",
    "version": 3
   },
   "file_extension": ".py",
   "mimetype": "text/x-python",
   "name": "python",
   "nbconvert_exporter": "python",
   "pygments_lexer": "ipython3",
   "version": "3.11.7"
  }
 },
 "nbformat": 4,
 "nbformat_minor": 5
}
